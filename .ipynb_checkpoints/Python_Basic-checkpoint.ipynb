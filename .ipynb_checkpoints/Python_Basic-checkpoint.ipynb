{
 "cells": [
  {
   "cell_type": "code",
   "execution_count": 8,
   "id": "a1bbc6a7-bf0e-4dfa-ae2a-50256404f176",
   "metadata": {},
   "outputs": [],
   "source": [
    "# Question 2: Examples of how predefines keywords are used in a program."
   ]
  },
  {
   "cell_type": "code",
   "execution_count": 9,
   "id": "4285a54f-4739-4fe1-8b7c-cafe3d240c61",
   "metadata": {},
   "outputs": [
    {
     "data": {
      "text/plain": [
       "bool"
      ]
     },
     "execution_count": 9,
     "metadata": {},
     "output_type": "execute_result"
    }
   ],
   "source": [
    "# Eg 1\n",
    "a=True                             # True is a predifines keyword that has a internal value of 1\n",
    "type(a)                            # Type is a predifines keyword that determines the datatype of the variable"
   ]
  },
  {
   "cell_type": "code",
   "execution_count": 10,
   "id": "9c69ef73-5109-4038-87d9-b566c41f23a2",
   "metadata": {},
   "outputs": [
    {
     "name": "stdin",
     "output_type": "stream",
     "text": [
      "Enter 1st value: 2\n",
      "Enter 2nd value: 3\n"
     ]
    },
    {
     "name": "stdout",
     "output_type": "stream",
     "text": [
      "1st value smaller than 2nd value\n"
     ]
    }
   ],
   "source": [
    "# Eg 2\n",
    "a=int(input(\"Enter 1st value: \"))       # int and input are predefined keyword, int assigns the datatype and input takes valus entered by user\n",
    "b=int(input(\"Enter 2nd value: \"))\n",
    "if a>b:                                # if, elif, else are predefined keywords that work on some condition\n",
    "    print(\"1st value greater than 2nd value\")\n",
    "elif a==b:\n",
    "    print(\"1st value equal to 2nd value\")\n",
    "else:\n",
    "    print(\"1st value smaller than 2nd value\")"
   ]
  },
  {
   "cell_type": "code",
   "execution_count": 13,
   "id": "d555ed40-f75a-4ede-9d23-d301d99d18c8",
   "metadata": {
    "tags": []
   },
   "outputs": [],
   "source": [
    "# Quesion 3: Compare mutable and immutable objects."
   ]
  },
  {
   "cell_type": "code",
   "execution_count": 29,
   "id": "13068a92-a235-4224-9863-4f9d455c8c97",
   "metadata": {},
   "outputs": [
    {
     "name": "stdout",
     "output_type": "stream",
     "text": [
      "[3, True, '5.78', 'XYZ']\n"
     ]
    },
    {
     "name": "stdin",
     "output_type": "stream",
     "text": [
      "No of cell you want to change value:  2\n",
      "Enter the new change:  Good\n"
     ]
    },
    {
     "name": "stdout",
     "output_type": "stream",
     "text": [
      "[3, 'Good', '5.78', 'XYZ']\n"
     ]
    }
   ],
   "source": [
    "# Eg 1 Mutable object\n",
    "l=[3,True,\"5.78\",\"XYZ\"]\n",
    "print(l)\n",
    "a=int(input(\"No of cell you want to change value: \"))\n",
    "b=input(\"Enter the new change: \")\n",
    "l[a-1]=b                      # As list is mutable so it will change the value with any problem\n",
    "print(l)"
   ]
  },
  {
   "cell_type": "code",
   "execution_count": 30,
   "id": "c59fcf6c-5cf9-4466-b3c0-7cc5a5f3e61e",
   "metadata": {},
   "outputs": [
    {
     "ename": "TypeError",
     "evalue": "'str' object does not support item assignment",
     "output_type": "error",
     "traceback": [
      "\u001b[0;31m---------------------------------------------------------------------------\u001b[0m",
      "\u001b[0;31mTypeError\u001b[0m                                 Traceback (most recent call last)",
      "Cell \u001b[0;32mIn[30], line 3\u001b[0m\n\u001b[1;32m      1\u001b[0m \u001b[38;5;66;03m# Eg 2 Mutable object\u001b[39;00m\n\u001b[1;32m      2\u001b[0m a\u001b[38;5;241m=\u001b[39m\u001b[38;5;124m\"\u001b[39m\u001b[38;5;124mGood\u001b[39m\u001b[38;5;124m\"\u001b[39m\n\u001b[0;32m----> 3\u001b[0m \u001b[43ma\u001b[49m\u001b[43m[\u001b[49m\u001b[38;5;241;43m2\u001b[39;49m\u001b[43m]\u001b[49m\u001b[38;5;241m=\u001b[39m\u001b[38;5;124m\"\u001b[39m\u001b[38;5;124mi\u001b[39m\u001b[38;5;124m\"\u001b[39m\n\u001b[1;32m      4\u001b[0m \u001b[38;5;28mprint\u001b[39m(a)\n",
      "\u001b[0;31mTypeError\u001b[0m: 'str' object does not support item assignment"
     ]
    }
   ],
   "source": [
    "# Eg 2 Mutable object\n",
    "a=\"Good\"\n",
    "a[2]=\"i\"                       # As String is immutable so it show error\n",
    "print(a)"
   ]
  },
  {
   "cell_type": "code",
   "execution_count": 3,
   "id": "37e37fcf-dd69-4bd9-afd9-af8e8a6ef6cf",
   "metadata": {
    "tags": []
   },
   "outputs": [],
   "source": [
    "# Quesion 4: How different types of operators in python."
   ]
  },
  {
   "cell_type": "code",
   "execution_count": 22,
   "id": "ea6ea5a8-8b6d-4dd1-88bb-f4d7c3513f03",
   "metadata": {},
   "outputs": [
    {
     "data": {
      "text/plain": [
       "False"
      ]
     },
     "execution_count": 22,
     "metadata": {},
     "output_type": "execute_result"
    }
   ],
   "source": [
    "# Eg 1\n",
    "a=True\n",
    "b=False\n",
    "a and b                               # 'and' 'or' is a logical Operator"
   ]
  },
  {
   "cell_type": "code",
   "execution_count": 24,
   "id": "415b09d1-3a25-4bb7-acd5-d616ea747c52",
   "metadata": {},
   "outputs": [
    {
     "name": "stdin",
     "output_type": "stream",
     "text": [
      "Enter 1st value: 1\n",
      "Enter 2nd value: 2\n"
     ]
    },
    {
     "name": "stdout",
     "output_type": "stream",
     "text": [
      "Addition of both values:  3\n",
      "Subtraction of 1st alue from 2nd Value:  1\n"
     ]
    }
   ],
   "source": [
    "# Eg 2\n",
    "a=int(input(\"Enter 1st value: \"))       \n",
    "b=int(input(\"Enter 2nd value: \"))\n",
    "print(\"Addition of both values: \", a+b)            # '+' comes under Arithmetic Operator\n",
    "print(\"Subtraction of 1st alue from 2nd Value: \", b-a)            # '-' comes under Arithmetic Operator"
   ]
  },
  {
   "cell_type": "code",
   "execution_count": 5,
   "id": "a768b31d-208c-4b78-88e9-941c37e52af4",
   "metadata": {},
   "outputs": [],
   "source": [
    "# Quesion 5: Examples of type Casting in Python."
   ]
  },
  {
   "cell_type": "code",
   "execution_count": 40,
   "id": "16a45835-461a-436b-88a0-b2160ff03c5d",
   "metadata": {},
   "outputs": [
    {
     "name": "stdin",
     "output_type": "stream",
     "text": [
      "Enter a Value:  5\n"
     ]
    },
    {
     "ename": "TypeError",
     "evalue": "unsupported operand type(s) for ** or pow(): 'str' and 'int'",
     "output_type": "error",
     "traceback": [
      "\u001b[0;31m---------------------------------------------------------------------------\u001b[0m",
      "\u001b[0;31mTypeError\u001b[0m                                 Traceback (most recent call last)",
      "Cell \u001b[0;32mIn[40], line 3\u001b[0m\n\u001b[1;32m      1\u001b[0m \u001b[38;5;66;03m# Eg 1\u001b[39;00m\n\u001b[1;32m      2\u001b[0m a\u001b[38;5;241m=\u001b[39m\u001b[38;5;28minput\u001b[39m(\u001b[38;5;124m\"\u001b[39m\u001b[38;5;124mEnter a Value: \u001b[39m\u001b[38;5;124m\"\u001b[39m)\n\u001b[0;32m----> 3\u001b[0m a\u001b[38;5;241m=\u001b[39m\u001b[43ma\u001b[49m\u001b[38;5;241;43m*\u001b[39;49m\u001b[38;5;241;43m*\u001b[39;49m\u001b[38;5;241;43m2\u001b[39;49m\n\u001b[1;32m      4\u001b[0m \u001b[38;5;28mprint\u001b[39m(\u001b[38;5;124m\"\u001b[39m\u001b[38;5;124mSquare of the no: \u001b[39m\u001b[38;5;124m\"\u001b[39m,a)              \u001b[38;5;66;03m# This will show Erroe as the data type of 'a' is string, for arithmetic operation we need int or float data type\u001b[39;00m\n",
      "\u001b[0;31mTypeError\u001b[0m: unsupported operand type(s) for ** or pow(): 'str' and 'int'"
     ]
    }
   ],
   "source": [
    "# Eg 1\n",
    "a=input(\"Enter a Value: \")\n",
    "a=a**2\n",
    "print(\"Square of the no: \",a)              # This will show Erroe as the data type of 'a' is string, for arithmetic operation we need int or float data type"
   ]
  },
  {
   "cell_type": "code",
   "execution_count": 44,
   "id": "17cc8407-816e-43c2-9f48-9f6e722d29e7",
   "metadata": {},
   "outputs": [
    {
     "name": "stdin",
     "output_type": "stream",
     "text": [
      "Enter a Value:  5\n"
     ]
    },
    {
     "name": "stdout",
     "output_type": "stream",
     "text": [
      "Square of the no:  25\n"
     ]
    }
   ],
   "source": [
    "# Eg 2\n",
    "a=int(input(\"Enter a Value: \"))             # Here we type casted the variable 'a' into 'int', so the input string will be converted to int then assigned to 'a'\n",
    "a=a**2\n",
    "print(\"Square of the no: \",a)"
   ]
  },
  {
   "cell_type": "code",
   "execution_count": 6,
   "id": "d75134fa-4dfb-474c-ad6c-4ec7f046044e",
   "metadata": {},
   "outputs": [],
   "source": [
    "# Quesion 6: Examples of coditional statements."
   ]
  },
  {
   "cell_type": "code",
   "execution_count": 48,
   "id": "7bbe8992-586e-40c5-81cd-09c76ba76554",
   "metadata": {},
   "outputs": [
    {
     "name": "stdin",
     "output_type": "stream",
     "text": [
      "Enter value for A:  5\n",
      "Enter value for B:  6\n"
     ]
    },
    {
     "name": "stdout",
     "output_type": "stream",
     "text": [
      "A<B So,B-A:  1\n"
     ]
    }
   ],
   "source": [
    "# Eg 'IF' & 'ELSE' conditional statement\n",
    "# the conditional program is about values if a=b then output a*b, if a>b then a+b, and if a<b then b-a\n",
    "a=int(input(\"Enter value for A: \"))       \n",
    "b=int(input(\"Enter value for B: \"))\n",
    "if a>b:\n",
    "    print(\"A>B So,A+B: \",a+b)\n",
    "elif a==b:\n",
    "    print(\"A=B So,A*B: \",a*b)\n",
    "else:\n",
    "    print(\"A<B So,B-A: \",b-a)"
   ]
  },
  {
   "cell_type": "code",
   "execution_count": null,
   "id": "921224d0-c9b4-469b-b693-f3de83025635",
   "metadata": {},
   "outputs": [],
   "source": [
    "# Quesion 7: Example of different type of loops."
   ]
  },
  {
   "cell_type": "code",
   "execution_count": 10,
   "id": "e5c5ff12-0902-4c95-b726-9c423fd2101e",
   "metadata": {},
   "outputs": [
    {
     "name": "stdin",
     "output_type": "stream",
     "text": [
      "Enter value for N:  5\n"
     ]
    },
    {
     "name": "stdout",
     "output_type": "stream",
     "text": [
      "1 \n",
      "1 2 \n",
      "1 2 3 \n",
      "1 2 3 4 \n",
      "1 2 3 4 5 \n"
     ]
    }
   ],
   "source": [
    "# Eg 1 \n",
    "# Using While Loop printing a ascending pattern\n",
    "n=int(input(\"Enter value for N: \"))+1\n",
    "i=1\n",
    "while i<n:\n",
    "    j=0\n",
    "    while j<i:\n",
    "        print(j+1,end=\" \")\n",
    "        j+=1\n",
    "    print()\n",
    "    i+=1"
   ]
  },
  {
   "cell_type": "code",
   "execution_count": 13,
   "id": "99545a62-ce5b-4d7b-b917-a7286b4ee026",
   "metadata": {},
   "outputs": [
    {
     "name": "stdin",
     "output_type": "stream",
     "text": [
      "Enter value for N:  5\n"
     ]
    },
    {
     "name": "stdout",
     "output_type": "stream",
     "text": [
      "5 4 3 2 1 \n",
      "5 4 3 2 \n",
      "5 4 3 \n",
      "5 4 \n",
      "5 \n"
     ]
    }
   ],
   "source": [
    "# Eg 1 \n",
    "# Using For Loop printing a descending pattern\n",
    "n=int(input(\"Enter value for N: \"))\n",
    "for i in range(n):\n",
    "    for j in range(n-i):\n",
    "        print(n-j, end=\" \")\n",
    "    print()"
   ]
  }
 ],
 "metadata": {
  "kernelspec": {
   "display_name": "Python 3 (ipykernel)",
   "language": "python",
   "name": "python3"
  },
  "language_info": {
   "codemirror_mode": {
    "name": "ipython",
    "version": 3
   },
   "file_extension": ".py",
   "mimetype": "text/x-python",
   "name": "python",
   "nbconvert_exporter": "python",
   "pygments_lexer": "ipython3",
   "version": "3.10.8"
  }
 },
 "nbformat": 4,
 "nbformat_minor": 5
}
